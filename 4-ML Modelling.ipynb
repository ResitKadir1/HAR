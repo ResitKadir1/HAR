{
 "cells": [
  {
   "cell_type": "code",
   "execution_count": 1,
   "id": "08957f92",
   "metadata": {},
   "outputs": [],
   "source": [
    "import numpy as np\n",
    "import pandas as pd"
   ]
  },
  {
   "cell_type": "markdown",
   "id": "659f4df9",
   "metadata": {},
   "source": [
    "## Fetch Cleaned Datasets"
   ]
  },
  {
   "cell_type": "code",
   "execution_count": 3,
   "id": "3a4e9f0f",
   "metadata": {},
   "outputs": [
    {
     "name": "stdout",
     "output_type": "stream",
     "text": [
      "(7352, 564) (2947, 564)\n"
     ]
    }
   ],
   "source": [
    "csv = \"csv_files/\"\n",
    "train = pd.read_csv(csv+'train.csv')\n",
    "test = pd.read_csv(csv+'test.csv')\n",
    "print(train.shape, test.shape)"
   ]
  },
  {
   "cell_type": "code",
   "execution_count": 4,
   "id": "40edca69",
   "metadata": {},
   "outputs": [
    {
     "data": {
      "text/html": [
       "<div>\n",
       "<style scoped>\n",
       "    .dataframe tbody tr th:only-of-type {\n",
       "        vertical-align: middle;\n",
       "    }\n",
       "\n",
       "    .dataframe tbody tr th {\n",
       "        vertical-align: top;\n",
       "    }\n",
       "\n",
       "    .dataframe thead th {\n",
       "        text-align: right;\n",
       "    }\n",
       "</style>\n",
       "<table border=\"1\" class=\"dataframe\">\n",
       "  <thead>\n",
       "    <tr style=\"text-align: right;\">\n",
       "      <th></th>\n",
       "      <th>tBodyAccmeanX</th>\n",
       "      <th>tBodyAccmeanY</th>\n",
       "      <th>tBodyAccmeanZ</th>\n",
       "      <th>tBodyAccstdX</th>\n",
       "      <th>tBodyAccstdY</th>\n",
       "      <th>tBodyAccstdZ</th>\n",
       "      <th>tBodyAccmadX</th>\n",
       "      <th>tBodyAccmadY</th>\n",
       "      <th>tBodyAccmadZ</th>\n",
       "      <th>tBodyAccmaxX</th>\n",
       "      <th>...</th>\n",
       "      <th>angletBodyAccMeangravity</th>\n",
       "      <th>angletBodyAccJerkMeangravityMean</th>\n",
       "      <th>angletBodyGyroMeangravityMean</th>\n",
       "      <th>angletBodyGyroJerkMeangravityMean</th>\n",
       "      <th>angleXgravityMean</th>\n",
       "      <th>angleYgravityMean</th>\n",
       "      <th>angleZgravityMean</th>\n",
       "      <th>subject</th>\n",
       "      <th>Activity</th>\n",
       "      <th>ActivityName</th>\n",
       "    </tr>\n",
       "  </thead>\n",
       "  <tbody>\n",
       "    <tr>\n",
       "      <th>0</th>\n",
       "      <td>0.288585</td>\n",
       "      <td>-0.020294</td>\n",
       "      <td>-0.132905</td>\n",
       "      <td>-0.995279</td>\n",
       "      <td>-0.983111</td>\n",
       "      <td>-0.913526</td>\n",
       "      <td>-0.995112</td>\n",
       "      <td>-0.983185</td>\n",
       "      <td>-0.923527</td>\n",
       "      <td>-0.934724</td>\n",
       "      <td>...</td>\n",
       "      <td>-0.112754</td>\n",
       "      <td>0.030400</td>\n",
       "      <td>-0.464761</td>\n",
       "      <td>-0.018446</td>\n",
       "      <td>-0.841247</td>\n",
       "      <td>0.179941</td>\n",
       "      <td>-0.058627</td>\n",
       "      <td>1</td>\n",
       "      <td>5</td>\n",
       "      <td>STANDING</td>\n",
       "    </tr>\n",
       "    <tr>\n",
       "      <th>1</th>\n",
       "      <td>0.278419</td>\n",
       "      <td>-0.016411</td>\n",
       "      <td>-0.123520</td>\n",
       "      <td>-0.998245</td>\n",
       "      <td>-0.975300</td>\n",
       "      <td>-0.960322</td>\n",
       "      <td>-0.998807</td>\n",
       "      <td>-0.974914</td>\n",
       "      <td>-0.957686</td>\n",
       "      <td>-0.943068</td>\n",
       "      <td>...</td>\n",
       "      <td>0.053477</td>\n",
       "      <td>-0.007435</td>\n",
       "      <td>-0.732626</td>\n",
       "      <td>0.703511</td>\n",
       "      <td>-0.844788</td>\n",
       "      <td>0.180289</td>\n",
       "      <td>-0.054317</td>\n",
       "      <td>1</td>\n",
       "      <td>5</td>\n",
       "      <td>STANDING</td>\n",
       "    </tr>\n",
       "    <tr>\n",
       "      <th>2</th>\n",
       "      <td>0.279653</td>\n",
       "      <td>-0.019467</td>\n",
       "      <td>-0.113462</td>\n",
       "      <td>-0.995380</td>\n",
       "      <td>-0.967187</td>\n",
       "      <td>-0.978944</td>\n",
       "      <td>-0.996520</td>\n",
       "      <td>-0.963668</td>\n",
       "      <td>-0.977469</td>\n",
       "      <td>-0.938692</td>\n",
       "      <td>...</td>\n",
       "      <td>-0.118559</td>\n",
       "      <td>0.177899</td>\n",
       "      <td>0.100699</td>\n",
       "      <td>0.808529</td>\n",
       "      <td>-0.848933</td>\n",
       "      <td>0.180637</td>\n",
       "      <td>-0.049118</td>\n",
       "      <td>1</td>\n",
       "      <td>5</td>\n",
       "      <td>STANDING</td>\n",
       "    </tr>\n",
       "  </tbody>\n",
       "</table>\n",
       "<p>3 rows × 564 columns</p>\n",
       "</div>"
      ],
      "text/plain": [
       "   tBodyAccmeanX  tBodyAccmeanY  tBodyAccmeanZ  tBodyAccstdX  tBodyAccstdY  \\\n",
       "0       0.288585      -0.020294      -0.132905     -0.995279     -0.983111   \n",
       "1       0.278419      -0.016411      -0.123520     -0.998245     -0.975300   \n",
       "2       0.279653      -0.019467      -0.113462     -0.995380     -0.967187   \n",
       "\n",
       "   tBodyAccstdZ  tBodyAccmadX  tBodyAccmadY  tBodyAccmadZ  tBodyAccmaxX  ...  \\\n",
       "0     -0.913526     -0.995112     -0.983185     -0.923527     -0.934724  ...   \n",
       "1     -0.960322     -0.998807     -0.974914     -0.957686     -0.943068  ...   \n",
       "2     -0.978944     -0.996520     -0.963668     -0.977469     -0.938692  ...   \n",
       "\n",
       "   angletBodyAccMeangravity  angletBodyAccJerkMeangravityMean  \\\n",
       "0                 -0.112754                          0.030400   \n",
       "1                  0.053477                         -0.007435   \n",
       "2                 -0.118559                          0.177899   \n",
       "\n",
       "   angletBodyGyroMeangravityMean  angletBodyGyroJerkMeangravityMean  \\\n",
       "0                      -0.464761                          -0.018446   \n",
       "1                      -0.732626                           0.703511   \n",
       "2                       0.100699                           0.808529   \n",
       "\n",
       "   angleXgravityMean  angleYgravityMean  angleZgravityMean  subject  Activity  \\\n",
       "0          -0.841247           0.179941          -0.058627        1         5   \n",
       "1          -0.844788           0.180289          -0.054317        1         5   \n",
       "2          -0.848933           0.180637          -0.049118        1         5   \n",
       "\n",
       "   ActivityName  \n",
       "0      STANDING  \n",
       "1      STANDING  \n",
       "2      STANDING  \n",
       "\n",
       "[3 rows x 564 columns]"
      ]
     },
     "execution_count": 4,
     "metadata": {},
     "output_type": "execute_result"
    }
   ],
   "source": [
    "train.head(3)"
   ]
  },
  {
   "cell_type": "code",
   "execution_count": 8,
   "id": "ae582486",
   "metadata": {},
   "outputs": [],
   "source": [
    "# get X_train and y_train from csv files\n",
    "X_train = train.drop(['subject', 'Activity', 'ActivityName'], axis=1)\n",
    "y_train = train.ActivityName"
   ]
  },
  {
   "cell_type": "code",
   "execution_count": 10,
   "id": "5ff060fc",
   "metadata": {},
   "outputs": [
    {
     "data": {
      "text/html": [
       "<div>\n",
       "<style scoped>\n",
       "    .dataframe tbody tr th:only-of-type {\n",
       "        vertical-align: middle;\n",
       "    }\n",
       "\n",
       "    .dataframe tbody tr th {\n",
       "        vertical-align: top;\n",
       "    }\n",
       "\n",
       "    .dataframe thead th {\n",
       "        text-align: right;\n",
       "    }\n",
       "</style>\n",
       "<table border=\"1\" class=\"dataframe\">\n",
       "  <thead>\n",
       "    <tr style=\"text-align: right;\">\n",
       "      <th></th>\n",
       "      <th>tBodyAccmeanX</th>\n",
       "      <th>tBodyAccmeanY</th>\n",
       "      <th>tBodyAccmeanZ</th>\n",
       "      <th>tBodyAccstdX</th>\n",
       "      <th>tBodyAccstdY</th>\n",
       "      <th>tBodyAccstdZ</th>\n",
       "      <th>tBodyAccmadX</th>\n",
       "      <th>tBodyAccmadY</th>\n",
       "      <th>tBodyAccmadZ</th>\n",
       "      <th>tBodyAccmaxX</th>\n",
       "      <th>...</th>\n",
       "      <th>fBodyBodyGyroJerkMagmeanFreq</th>\n",
       "      <th>fBodyBodyGyroJerkMagskewness</th>\n",
       "      <th>fBodyBodyGyroJerkMagkurtosis</th>\n",
       "      <th>angletBodyAccMeangravity</th>\n",
       "      <th>angletBodyAccJerkMeangravityMean</th>\n",
       "      <th>angletBodyGyroMeangravityMean</th>\n",
       "      <th>angletBodyGyroJerkMeangravityMean</th>\n",
       "      <th>angleXgravityMean</th>\n",
       "      <th>angleYgravityMean</th>\n",
       "      <th>angleZgravityMean</th>\n",
       "    </tr>\n",
       "  </thead>\n",
       "  <tbody>\n",
       "    <tr>\n",
       "      <th>0</th>\n",
       "      <td>0.288585</td>\n",
       "      <td>-0.020294</td>\n",
       "      <td>-0.132905</td>\n",
       "      <td>-0.995279</td>\n",
       "      <td>-0.983111</td>\n",
       "      <td>-0.913526</td>\n",
       "      <td>-0.995112</td>\n",
       "      <td>-0.983185</td>\n",
       "      <td>-0.923527</td>\n",
       "      <td>-0.934724</td>\n",
       "      <td>...</td>\n",
       "      <td>-0.074323</td>\n",
       "      <td>-0.298676</td>\n",
       "      <td>-0.710304</td>\n",
       "      <td>-0.112754</td>\n",
       "      <td>0.030400</td>\n",
       "      <td>-0.464761</td>\n",
       "      <td>-0.018446</td>\n",
       "      <td>-0.841247</td>\n",
       "      <td>0.179941</td>\n",
       "      <td>-0.058627</td>\n",
       "    </tr>\n",
       "    <tr>\n",
       "      <th>1</th>\n",
       "      <td>0.278419</td>\n",
       "      <td>-0.016411</td>\n",
       "      <td>-0.123520</td>\n",
       "      <td>-0.998245</td>\n",
       "      <td>-0.975300</td>\n",
       "      <td>-0.960322</td>\n",
       "      <td>-0.998807</td>\n",
       "      <td>-0.974914</td>\n",
       "      <td>-0.957686</td>\n",
       "      <td>-0.943068</td>\n",
       "      <td>...</td>\n",
       "      <td>0.158075</td>\n",
       "      <td>-0.595051</td>\n",
       "      <td>-0.861499</td>\n",
       "      <td>0.053477</td>\n",
       "      <td>-0.007435</td>\n",
       "      <td>-0.732626</td>\n",
       "      <td>0.703511</td>\n",
       "      <td>-0.844788</td>\n",
       "      <td>0.180289</td>\n",
       "      <td>-0.054317</td>\n",
       "    </tr>\n",
       "  </tbody>\n",
       "</table>\n",
       "<p>2 rows × 561 columns</p>\n",
       "</div>"
      ],
      "text/plain": [
       "   tBodyAccmeanX  tBodyAccmeanY  tBodyAccmeanZ  tBodyAccstdX  tBodyAccstdY  \\\n",
       "0       0.288585      -0.020294      -0.132905     -0.995279     -0.983111   \n",
       "1       0.278419      -0.016411      -0.123520     -0.998245     -0.975300   \n",
       "\n",
       "   tBodyAccstdZ  tBodyAccmadX  tBodyAccmadY  tBodyAccmadZ  tBodyAccmaxX  ...  \\\n",
       "0     -0.913526     -0.995112     -0.983185     -0.923527     -0.934724  ...   \n",
       "1     -0.960322     -0.998807     -0.974914     -0.957686     -0.943068  ...   \n",
       "\n",
       "   fBodyBodyGyroJerkMagmeanFreq  fBodyBodyGyroJerkMagskewness  \\\n",
       "0                     -0.074323                     -0.298676   \n",
       "1                      0.158075                     -0.595051   \n",
       "\n",
       "   fBodyBodyGyroJerkMagkurtosis  angletBodyAccMeangravity  \\\n",
       "0                     -0.710304                 -0.112754   \n",
       "1                     -0.861499                  0.053477   \n",
       "\n",
       "   angletBodyAccJerkMeangravityMean  angletBodyGyroMeangravityMean  \\\n",
       "0                          0.030400                      -0.464761   \n",
       "1                         -0.007435                      -0.732626   \n",
       "\n",
       "   angletBodyGyroJerkMeangravityMean  angleXgravityMean  angleYgravityMean  \\\n",
       "0                          -0.018446          -0.841247           0.179941   \n",
       "1                           0.703511          -0.844788           0.180289   \n",
       "\n",
       "   angleZgravityMean  \n",
       "0          -0.058627  \n",
       "1          -0.054317  \n",
       "\n",
       "[2 rows x 561 columns]"
      ]
     },
     "execution_count": 10,
     "metadata": {},
     "output_type": "execute_result"
    }
   ],
   "source": [
    "X_train.head(2)"
   ]
  },
  {
   "cell_type": "code",
   "execution_count": 12,
   "id": "a32e3ce3",
   "metadata": {},
   "outputs": [
    {
     "data": {
      "text/plain": [
       "0    STANDING\n",
       "1    STANDING\n",
       "Name: ActivityName, dtype: object"
      ]
     },
     "execution_count": 12,
     "metadata": {},
     "output_type": "execute_result"
    }
   ],
   "source": [
    "y_train.head(2)"
   ]
  },
  {
   "cell_type": "code",
   "execution_count": 13,
   "id": "05ca923d",
   "metadata": {},
   "outputs": [
    {
     "data": {
      "text/html": [
       "<div>\n",
       "<style scoped>\n",
       "    .dataframe tbody tr th:only-of-type {\n",
       "        vertical-align: middle;\n",
       "    }\n",
       "\n",
       "    .dataframe tbody tr th {\n",
       "        vertical-align: top;\n",
       "    }\n",
       "\n",
       "    .dataframe thead th {\n",
       "        text-align: right;\n",
       "    }\n",
       "</style>\n",
       "<table border=\"1\" class=\"dataframe\">\n",
       "  <thead>\n",
       "    <tr style=\"text-align: right;\">\n",
       "      <th></th>\n",
       "      <th>tBodyAccmeanX</th>\n",
       "      <th>tBodyAccmeanY</th>\n",
       "      <th>tBodyAccmeanZ</th>\n",
       "      <th>tBodyAccstdX</th>\n",
       "      <th>tBodyAccstdY</th>\n",
       "      <th>tBodyAccstdZ</th>\n",
       "      <th>tBodyAccmadX</th>\n",
       "      <th>tBodyAccmadY</th>\n",
       "      <th>tBodyAccmadZ</th>\n",
       "      <th>tBodyAccmaxX</th>\n",
       "      <th>...</th>\n",
       "      <th>fBodyBodyGyroJerkMagmeanFreq</th>\n",
       "      <th>fBodyBodyGyroJerkMagskewness</th>\n",
       "      <th>fBodyBodyGyroJerkMagkurtosis</th>\n",
       "      <th>angletBodyAccMeangravity</th>\n",
       "      <th>angletBodyAccJerkMeangravityMean</th>\n",
       "      <th>angletBodyGyroMeangravityMean</th>\n",
       "      <th>angletBodyGyroJerkMeangravityMean</th>\n",
       "      <th>angleXgravityMean</th>\n",
       "      <th>angleYgravityMean</th>\n",
       "      <th>angleZgravityMean</th>\n",
       "    </tr>\n",
       "  </thead>\n",
       "  <tbody>\n",
       "    <tr>\n",
       "      <th>0</th>\n",
       "      <td>0.257178</td>\n",
       "      <td>-0.023285</td>\n",
       "      <td>-0.014654</td>\n",
       "      <td>-0.938404</td>\n",
       "      <td>-0.920091</td>\n",
       "      <td>-0.667683</td>\n",
       "      <td>-0.952501</td>\n",
       "      <td>-0.925249</td>\n",
       "      <td>-0.674302</td>\n",
       "      <td>-0.894088</td>\n",
       "      <td>...</td>\n",
       "      <td>0.071645</td>\n",
       "      <td>-0.330370</td>\n",
       "      <td>-0.705974</td>\n",
       "      <td>0.006462</td>\n",
       "      <td>0.16292</td>\n",
       "      <td>-0.825886</td>\n",
       "      <td>0.271151</td>\n",
       "      <td>-0.720009</td>\n",
       "      <td>0.276801</td>\n",
       "      <td>-0.057978</td>\n",
       "    </tr>\n",
       "    <tr>\n",
       "      <th>1</th>\n",
       "      <td>0.286027</td>\n",
       "      <td>-0.013163</td>\n",
       "      <td>-0.119083</td>\n",
       "      <td>-0.975415</td>\n",
       "      <td>-0.967458</td>\n",
       "      <td>-0.944958</td>\n",
       "      <td>-0.986799</td>\n",
       "      <td>-0.968401</td>\n",
       "      <td>-0.945823</td>\n",
       "      <td>-0.894088</td>\n",
       "      <td>...</td>\n",
       "      <td>-0.401189</td>\n",
       "      <td>-0.121845</td>\n",
       "      <td>-0.594944</td>\n",
       "      <td>-0.083495</td>\n",
       "      <td>0.01750</td>\n",
       "      <td>-0.434375</td>\n",
       "      <td>0.920593</td>\n",
       "      <td>-0.698091</td>\n",
       "      <td>0.281343</td>\n",
       "      <td>-0.083898</td>\n",
       "    </tr>\n",
       "  </tbody>\n",
       "</table>\n",
       "<p>2 rows × 561 columns</p>\n",
       "</div>"
      ],
      "text/plain": [
       "   tBodyAccmeanX  tBodyAccmeanY  tBodyAccmeanZ  tBodyAccstdX  tBodyAccstdY  \\\n",
       "0       0.257178      -0.023285      -0.014654     -0.938404     -0.920091   \n",
       "1       0.286027      -0.013163      -0.119083     -0.975415     -0.967458   \n",
       "\n",
       "   tBodyAccstdZ  tBodyAccmadX  tBodyAccmadY  tBodyAccmadZ  tBodyAccmaxX  ...  \\\n",
       "0     -0.667683     -0.952501     -0.925249     -0.674302     -0.894088  ...   \n",
       "1     -0.944958     -0.986799     -0.968401     -0.945823     -0.894088  ...   \n",
       "\n",
       "   fBodyBodyGyroJerkMagmeanFreq  fBodyBodyGyroJerkMagskewness  \\\n",
       "0                      0.071645                     -0.330370   \n",
       "1                     -0.401189                     -0.121845   \n",
       "\n",
       "   fBodyBodyGyroJerkMagkurtosis  angletBodyAccMeangravity  \\\n",
       "0                     -0.705974                  0.006462   \n",
       "1                     -0.594944                 -0.083495   \n",
       "\n",
       "   angletBodyAccJerkMeangravityMean  angletBodyGyroMeangravityMean  \\\n",
       "0                           0.16292                      -0.825886   \n",
       "1                           0.01750                      -0.434375   \n",
       "\n",
       "   angletBodyGyroJerkMeangravityMean  angleXgravityMean  angleYgravityMean  \\\n",
       "0                           0.271151          -0.720009           0.276801   \n",
       "1                           0.920593          -0.698091           0.281343   \n",
       "\n",
       "   angleZgravityMean  \n",
       "0          -0.057978  \n",
       "1          -0.083898  \n",
       "\n",
       "[2 rows x 561 columns]"
      ]
     },
     "execution_count": 13,
     "metadata": {},
     "output_type": "execute_result"
    }
   ],
   "source": [
    "# get X_test and y_test from test csv file\n",
    "X_test = test.drop(['subject', 'Activity', 'ActivityName'], axis=1)\n",
    "y_test = test.ActivityName\n",
    "X_test.head(2)"
   ]
  },
  {
   "cell_type": "code",
   "execution_count": 14,
   "id": "1d3f5f25",
   "metadata": {},
   "outputs": [
    {
     "data": {
      "text/plain": [
       "0    STANDING\n",
       "1    STANDING\n",
       "Name: ActivityName, dtype: object"
      ]
     },
     "execution_count": 14,
     "metadata": {},
     "output_type": "execute_result"
    }
   ],
   "source": [
    "y_test.head(2)"
   ]
  },
  {
   "cell_type": "code",
   "execution_count": 15,
   "id": "cc7c3395",
   "metadata": {},
   "outputs": [
    {
     "name": "stdout",
     "output_type": "stream",
     "text": [
      "X_train and y_train : ((7352, 561),(7352,))\n",
      "X_test  and y_test  : ((2947, 561),(2947,))\n"
     ]
    }
   ],
   "source": [
    "print('X_train and y_train : ({},{})'.format(X_train.shape, y_train.shape))\n",
    "print('X_test  and y_test  : ({},{})'.format(X_test.shape, y_test.shape))"
   ]
  },
  {
   "cell_type": "markdown",
   "id": "33d90dd7",
   "metadata": {},
   "source": [
    "# Model Buildings"
   ]
  },
  {
   "cell_type": "code",
   "execution_count": 16,
   "id": "75f183af",
   "metadata": {},
   "outputs": [],
   "source": [
    "labels=['LAYING', 'SITTING','STANDING','WALKING','WALKING_DOWNSTAIRS','WALKING_UPSTAIRS']"
   ]
  },
  {
   "cell_type": "markdown",
   "id": "a372030b",
   "metadata": {},
   "source": [
    "### Function to plot the confusion matrix"
   ]
  },
  {
   "cell_type": "code",
   "execution_count": 17,
   "id": "c7704678",
   "metadata": {},
   "outputs": [],
   "source": [
    "import itertools\n",
    "import numpy as np\n",
    "import matplotlib.pyplot as plt\n",
    "from sklearn.metrics import confusion_matrix\n",
    "plt.rcParams[\"font.family\"] = 'sans-serif'\n",
    "\n",
    "def plot_confusion_matrix(cm, classes,\n",
    "                          normalize=False,\n",
    "                          title='Confusion matrix',\n",
    "                          cmap=plt.cm.Blues):\n",
    "    if normalize:\n",
    "        cm = cm.astype('float') / cm.sum(axis=1)[:, np.newaxis]\n",
    "\n",
    "    plt.imshow(cm, interpolation='nearest', cmap=cmap)\n",
    "    plt.title(title)\n",
    "    plt.colorbar()\n",
    "    tick_marks = np.arange(len(classes))\n",
    "    plt.xticks(tick_marks, classes, rotation=90)\n",
    "    plt.yticks(tick_marks, classes)\n",
    "\n",
    "    fmt = '.2f' if normalize else 'd'\n",
    "    thresh = cm.max() / 2.\n",
    "    for i, j in itertools.product(range(cm.shape[0]), range(cm.shape[1])):\n",
    "        plt.text(j, i, format(cm[i, j], fmt),\n",
    "                 horizontalalignment=\"center\",\n",
    "                 color=\"white\" if cm[i, j] > thresh else \"black\")\n",
    "\n",
    "    plt.tight_layout()\n",
    "    plt.ylabel('True label')\n",
    "    plt.xlabel('Predicted label')"
   ]
  },
  {
   "cell_type": "code",
   "execution_count": 19,
   "id": "88ad18d3",
   "metadata": {},
   "outputs": [],
   "source": [
    "def perform_model(model, X_train, y_train, X_test, y_test, class_labels, cm_normalize=True, \\\n",
    "                 print_cm=True, cm_cmap=plt.cm.RdPu):\n",
    "    \n",
    "    \n",
    "    # to store results at various phases\n",
    "    results = dict()\n",
    "    \n",
    "    # time at which model starts training \n",
    "    model.fit(X_train, y_train)\n",
    "    \n",
    "    \n",
    "    # predict test data\n",
    "    print('Predicting test data')\n",
    "    y_pred = model.predict(X_test)\n",
    "    results['predicted'] = y_pred\n",
    "   \n",
    "\n",
    "    # calculate overall accuracty of the model\n",
    "    accuracy = metrics.accuracy_score(y_true=y_test, y_pred=y_pred)\n",
    "    # store accuracy in results\n",
    "    results['accuracy'] = accuracy\n",
    "    print('\\n    {}\\n\\n'.format(accuracy))\n",
    "    \n",
    "    \n",
    "    # confusion matrix\n",
    "    cm = metrics.confusion_matrix(y_test, y_pred)\n",
    "    results['confusion_matrix'] = cm\n",
    "    if print_cm: \n",
    "        print('| Confusion Matrix |')\n",
    "        print('\\n {}'.format(cm))\n",
    "        \n",
    "    # plot confusin matrix\n",
    "    plt.figure(figsize=(8,8))\n",
    "    plt.grid(b=False)\n",
    "    plot_confusion_matrix(cm, classes=class_labels, normalize=True, title='Normalized confusion matrix', cmap = cm_cmap)\n",
    "    plt.show()\n",
    "    \n",
    "    # get classification report\n",
    "    print('| Classifiction Report |')\n",
    "    classification_report = metrics.classification_report(y_test, y_pred)\n",
    "    # store report in results\n",
    "    results['classification_report'] = classification_report\n",
    "    print(classification_report)\n",
    "    \n",
    "    # add the trained  model to the results\n",
    "    results['model'] = model\n",
    "    \n",
    "    return results\n",
    "    \n",
    "    "
   ]
  },
  {
   "cell_type": "markdown",
   "id": "c87c1846",
   "metadata": {},
   "source": [
    "### Method to print the gridsearch Attributes"
   ]
  },
  {
   "cell_type": "code",
   "execution_count": 20,
   "id": "36e8c090",
   "metadata": {},
   "outputs": [],
   "source": [
    "def print_grid_search_attributes(model):\n",
    "    # Estimator that gave highest score among all the estimators formed in GridSearch\n",
    "    print('|      Best Estimator     |')\n",
    "    print('\\n\\t{}\\n'.format(model.best_estimator_))\n",
    "\n",
    "\n",
    "    # parameters that gave best results while performing grid search\n",
    "    print('|     Best parameters     |')\n",
    "    print('\\tParameters of best estimator : \\n\\n\\t{}\\n'.format(model.best_params_))\n",
    "\n",
    "\n",
    "    #  number of cross validation splits\n",
    "    print('|   No of CrossValidation sets   |')\n",
    "    print('\\n\\tTotal numbre of cross validation sets: {}\\n'.format(model.n_splits_))\n",
    "\n",
    "\n",
    "    # Average cross validated score of the best estimator, from the Grid Search \n",
    "    print('|        Best Score       |')\n",
    "    print('\\n\\tAverage Cross Validate scores of best estimator : \\n\\n\\t{}\\n'.format(model.best_score_))\n",
    "\n",
    "    \n",
    "    "
   ]
  },
  {
   "cell_type": "markdown",
   "id": "6cce6cae",
   "metadata": {},
   "source": [
    "# 1. Logistic Regression with Grid Search"
   ]
  },
  {
   "cell_type": "code",
   "execution_count": 28,
   "id": "41afd190",
   "metadata": {},
   "outputs": [],
   "source": [
    "from sklearn import linear_model\n",
    "from sklearn import metrics\n",
    "from sklearn.model_selection import GridSearchCV\n"
   ]
  },
  {
   "cell_type": "code",
   "execution_count": 29,
   "id": "15e2f126",
   "metadata": {},
   "outputs": [
    {
     "name": "stdout",
     "output_type": "stream",
     "text": [
      "Fitting 3 folds for each of 12 candidates, totalling 36 fits\n"
     ]
    },
    {
     "name": "stderr",
     "output_type": "stream",
     "text": [
      "[Parallel(n_jobs=-1)]: Using backend LokyBackend with 4 concurrent workers.\n",
      "[Parallel(n_jobs=-1)]: Done  36 out of  36 | elapsed:  2.2min finished\n"
     ]
    },
    {
     "name": "stdout",
     "output_type": "stream",
     "text": [
      "Predicting test data\n",
      "\n",
      "    0.9630132337970818\n",
      "\n",
      "\n",
      "| Confusion Matrix |\n",
      "\n",
      " [[537   0   0   0   0   0]\n",
      " [  2 428  57   0   0   4]\n",
      " [  0  11 520   1   0   0]\n",
      " [  0   0   0 495   1   0]\n",
      " [  0   0   0   3 409   8]\n",
      " [  0   0   0  22   0 449]]\n"
     ]
    },
    {
     "data": {
      "image/png": "[encoded data removed]",
      "text/plain": [
       "<Figure size 576x576 with 2 Axes>"
      ]
     },
     "metadata": {
      "needs_background": "light"
     },
     "output_type": "display_data"
    },
    {
     "name": "stdout",
     "output_type": "stream",
     "text": [
      "| Classifiction Report |\n",
      "                    precision    recall  f1-score   support\n",
      "\n",
      "            LAYING       1.00      1.00      1.00       537\n",
      "           SITTING       0.97      0.87      0.92       491\n",
      "          STANDING       0.90      0.98      0.94       532\n",
      "           WALKING       0.95      1.00      0.97       496\n",
      "WALKING_DOWNSTAIRS       1.00      0.97      0.99       420\n",
      "  WALKING_UPSTAIRS       0.97      0.95      0.96       471\n",
      "\n",
      "          accuracy                           0.96      2947\n",
      "         macro avg       0.97      0.96      0.96      2947\n",
      "      weighted avg       0.96      0.96      0.96      2947\n",
      "\n"
     ]
    }
   ],
   "source": [
    "# start Grid search\n",
    "parameters = {'C':[0.01, 0.1, 1, 10, 20, 30],\n",
    "              'penalty':['l2','l1']# l1 lasso l2 ridge\n",
    "             }\n",
    "log_reg = linear_model.LogisticRegression(solver='liblinear')\n",
    "log_reg_grid = GridSearchCV(log_reg, param_grid=parameters, cv=3, verbose=1, n_jobs=-1)\n",
    "log_reg_grid_results =  perform_model(log_reg_grid, X_train, y_train, X_test, y_test, class_labels=labels)\n"
   ]
  },
  {
   "cell_type": "code",
   "execution_count": 30,
   "id": "e9e0438a",
   "metadata": {},
   "outputs": [
    {
     "name": "stdout",
     "output_type": "stream",
     "text": [
      "|      Best Estimator     |\n",
      "\n",
      "\tLogisticRegression(C=30, class_weight=None, dual=False, fit_intercept=True,\n",
      "                   intercept_scaling=1, l1_ratio=None, max_iter=100,\n",
      "                   multi_class='auto', n_jobs=None, penalty='l2',\n",
      "                   random_state=None, solver='liblinear', tol=0.0001, verbose=0,\n",
      "                   warm_start=False)\n",
      "\n",
      "|     Best parameters     |\n",
      "\tParameters of best estimator : \n",
      "\n",
      "\t{'C': 30, 'penalty': 'l2'}\n",
      "\n",
      "|   No of CrossValidation sets   |\n",
      "\n",
      "\tTotal numbre of cross validation sets: 3\n",
      "\n",
      "|        Best Score       |\n",
      "\n",
      "\tAverage Cross Validate scores of best estimator : \n",
      "\n",
      "\t0.9460033805443843\n",
      "\n"
     ]
    }
   ],
   "source": [
    "print_grid_search_attributes(log_reg_grid_results['model'])"
   ]
  },
  {
   "cell_type": "markdown",
   "id": "410ec729",
   "metadata": {},
   "source": [
    "#  2. Linear SVC with GridSearch"
   ]
  },
  {
   "cell_type": "code",
   "execution_count": 31,
   "id": "a17ca5a8",
   "metadata": {},
   "outputs": [],
   "source": [
    "from sklearn.svm import LinearSVC"
   ]
  },
  {
   "cell_type": "code",
   "execution_count": 32,
   "id": "c2af0cd8",
   "metadata": {},
   "outputs": [
    {
     "name": "stdout",
     "output_type": "stream",
     "text": [
      "Fitting 5 folds for each of 6 candidates, totalling 30 fits\n"
     ]
    },
    {
     "name": "stderr",
     "output_type": "stream",
     "text": [
      "[Parallel(n_jobs=-1)]: Using backend LokyBackend with 4 concurrent workers.\n",
      "[Parallel(n_jobs=-1)]: Done  30 out of  30 | elapsed:  2.6min finished\n",
      "/opt/anaconda3/lib/python3.8/site-packages/sklearn/svm/_base.py:946: ConvergenceWarning: Liblinear failed to converge, increase the number of iterations.\n",
      "  warnings.warn(\"Liblinear failed to converge, increase \"\n"
     ]
    },
    {
     "name": "stdout",
     "output_type": "stream",
     "text": [
      "Predicting test data\n",
      "\n",
      "    0.9674244994910078\n",
      "\n",
      "\n",
      "| Confusion Matrix |\n",
      "\n",
      " [[537   0   0   0   0   0]\n",
      " [  2 431  55   0   0   3]\n",
      " [  0  10 521   1   0   0]\n",
      " [  0   0   0 496   0   0]\n",
      " [  0   0   0   3 412   5]\n",
      " [  0   0   0  17   0 454]]\n"
     ]
    },
    {
     "data": {
      "image/png": "[encoded data removed]",
      "text/plain": [
       "<Figure size 576x576 with 2 Axes>"
      ]
     },
     "metadata": {
      "needs_background": "light"
     },
     "output_type": "display_data"
    },
    {
     "name": "stdout",
     "output_type": "stream",
     "text": [
      "| Classifiction Report |\n",
      "                    precision    recall  f1-score   support\n",
      "\n",
      "            LAYING       1.00      1.00      1.00       537\n",
      "           SITTING       0.98      0.88      0.92       491\n",
      "          STANDING       0.90      0.98      0.94       532\n",
      "           WALKING       0.96      1.00      0.98       496\n",
      "WALKING_DOWNSTAIRS       1.00      0.98      0.99       420\n",
      "  WALKING_UPSTAIRS       0.98      0.96      0.97       471\n",
      "\n",
      "          accuracy                           0.97      2947\n",
      "         macro avg       0.97      0.97      0.97      2947\n",
      "      weighted avg       0.97      0.97      0.97      2947\n",
      "\n"
     ]
    }
   ],
   "source": [
    "parameters = {'C':[0.125, 0.5, 1, 2, 8, 16]}\n",
    "lr_svc = LinearSVC(tol=0.00005)\n",
    "lr_svc_grid = GridSearchCV(lr_svc, param_grid=parameters, n_jobs=-1, verbose=1)\n",
    "lr_svc_grid_results = perform_model(lr_svc_grid, X_train, y_train, X_test, y_test, class_labels=labels)"
   ]
  },
  {
   "cell_type": "code",
   "execution_count": 33,
   "id": "af26563d",
   "metadata": {},
   "outputs": [
    {
     "name": "stdout",
     "output_type": "stream",
     "text": [
      "|      Best Estimator     |\n",
      "\n",
      "\tLinearSVC(C=0.5, class_weight=None, dual=True, fit_intercept=True,\n",
      "          intercept_scaling=1, loss='squared_hinge', max_iter=1000,\n",
      "          multi_class='ovr', penalty='l2', random_state=None, tol=5e-05,\n",
      "          verbose=0)\n",
      "\n",
      "|     Best parameters     |\n",
      "\tParameters of best estimator : \n",
      "\n",
      "\t{'C': 0.5}\n",
      "\n",
      "|   No of CrossValidation sets   |\n",
      "\n",
      "\tTotal numbre of cross validation sets: 5\n",
      "\n",
      "|        Best Score       |\n",
      "\n",
      "\tAverage Cross Validate scores of best estimator : \n",
      "\n",
      "\t0.9419285321198501\n",
      "\n"
     ]
    }
   ],
   "source": [
    "print_grid_search_attributes(lr_svc_grid_results['model'])"
   ]
  },
  {
   "cell_type": "markdown",
   "id": "d5e96ce2",
   "metadata": {},
   "source": [
    "# 3.  Kernel SVM with GridSearch"
   ]
  },
  {
   "cell_type": "code",
   "execution_count": 34,
   "id": "be3fa859",
   "metadata": {},
   "outputs": [
    {
     "name": "stdout",
     "output_type": "stream",
     "text": [
      "Predicting test data\n",
      "\n",
      "    0.9626739056667798\n",
      "\n",
      "\n",
      "| Confusion Matrix |\n",
      "\n",
      " [[537   0   0   0   0   0]\n",
      " [  0 441  48   0   0   2]\n",
      " [  0  12 520   0   0   0]\n",
      " [  0   0   0 489   2   5]\n",
      " [  0   0   0   4 397  19]\n",
      " [  0   0   0  17   1 453]]\n"
     ]
    },
    {
     "data": {
      "image/png": "[encoded data removed]",
      "text/plain": [
       "<Figure size 576x576 with 2 Axes>"
      ]
     },
     "metadata": {
      "needs_background": "light"
     },
     "output_type": "display_data"
    },
    {
     "name": "stdout",
     "output_type": "stream",
     "text": [
      "| Classifiction Report |\n",
      "                    precision    recall  f1-score   support\n",
      "\n",
      "            LAYING       1.00      1.00      1.00       537\n",
      "           SITTING       0.97      0.90      0.93       491\n",
      "          STANDING       0.92      0.98      0.95       532\n",
      "           WALKING       0.96      0.99      0.97       496\n",
      "WALKING_DOWNSTAIRS       0.99      0.95      0.97       420\n",
      "  WALKING_UPSTAIRS       0.95      0.96      0.95       471\n",
      "\n",
      "          accuracy                           0.96      2947\n",
      "         macro avg       0.96      0.96      0.96      2947\n",
      "      weighted avg       0.96      0.96      0.96      2947\n",
      "\n"
     ]
    }
   ],
   "source": [
    "from sklearn.svm import SVC\n",
    "parameters = {'C':[2,8,16],\\\n",
    "              'gamma': [ 0.0078125, 0.125, 2]}\n",
    "rbf_svm = SVC(kernel='rbf')\n",
    "rbf_svm_grid = GridSearchCV(rbf_svm,param_grid=parameters, n_jobs=-1)\n",
    "rbf_svm_grid_results = perform_model(rbf_svm_grid, X_train, y_train, X_test, y_test, class_labels=labels)"
   ]
  },
  {
   "cell_type": "code",
   "execution_count": 35,
   "id": "8774e62d",
   "metadata": {},
   "outputs": [
    {
     "name": "stdout",
     "output_type": "stream",
     "text": [
      "|      Best Estimator     |\n",
      "\n",
      "\tSVC(C=16, break_ties=False, cache_size=200, class_weight=None, coef0=0.0,\n",
      "    decision_function_shape='ovr', degree=3, gamma=0.0078125, kernel='rbf',\n",
      "    max_iter=-1, probability=False, random_state=None, shrinking=True,\n",
      "    tol=0.001, verbose=False)\n",
      "\n",
      "|     Best parameters     |\n",
      "\tParameters of best estimator : \n",
      "\n",
      "\t{'C': 16, 'gamma': 0.0078125}\n",
      "\n",
      "|   No of CrossValidation sets   |\n",
      "\n",
      "\tTotal numbre of cross validation sets: 5\n",
      "\n",
      "|        Best Score       |\n",
      "\n",
      "\tAverage Cross Validate scores of best estimator : \n",
      "\n",
      "\t0.9447834551903698\n",
      "\n"
     ]
    }
   ],
   "source": [
    "print_grid_search_attributes(rbf_svm_grid_results['model'])"
   ]
  },
  {
   "cell_type": "markdown",
   "id": "36d13757",
   "metadata": {},
   "source": [
    "# 4. Decision Trees with GridSearchCV"
   ]
  },
  {
   "cell_type": "code",
   "execution_count": 36,
   "id": "0628e580",
   "metadata": {},
   "outputs": [
    {
     "name": "stdout",
     "output_type": "stream",
     "text": [
      "Predicting test data\n",
      "\n",
      "    0.8717339667458432\n",
      "\n",
      "\n",
      "| Confusion Matrix |\n",
      "\n",
      " [[537   0   0   0   0   0]\n",
      " [  0 368 123   0   0   0]\n",
      " [  0  60 472   0   0   0]\n",
      " [  0   0   0 474  16   6]\n",
      " [  0   0   0  24 353  43]\n",
      " [  0   0   0  66  40 365]]\n"
     ]
    },
    {
     "data": {
      "image/png": "[encoded data removed]",
      "text/plain": [
       "<Figure size 576x576 with 2 Axes>"
      ]
     },
     "metadata": {
      "needs_background": "light"
     },
     "output_type": "display_data"
    },
    {
     "name": "stdout",
     "output_type": "stream",
     "text": [
      "| Classifiction Report |\n",
      "                    precision    recall  f1-score   support\n",
      "\n",
      "            LAYING       1.00      1.00      1.00       537\n",
      "           SITTING       0.86      0.75      0.80       491\n",
      "          STANDING       0.79      0.89      0.84       532\n",
      "           WALKING       0.84      0.96      0.89       496\n",
      "WALKING_DOWNSTAIRS       0.86      0.84      0.85       420\n",
      "  WALKING_UPSTAIRS       0.88      0.77      0.82       471\n",
      "\n",
      "          accuracy                           0.87      2947\n",
      "         macro avg       0.87      0.87      0.87      2947\n",
      "      weighted avg       0.87      0.87      0.87      2947\n",
      "\n",
      "|      Best Estimator     |\n",
      "\n",
      "\tDecisionTreeClassifier(ccp_alpha=0.0, class_weight=None, criterion='gini',\n",
      "                       max_depth=9, max_features=None, max_leaf_nodes=None,\n",
      "                       min_impurity_decrease=0.0, min_impurity_split=None,\n",
      "                       min_samples_leaf=1, min_samples_split=2,\n",
      "                       min_weight_fraction_leaf=0.0, presort='deprecated',\n",
      "                       random_state=None, splitter='best')\n",
      "\n",
      "|     Best parameters     |\n",
      "\tParameters of best estimator : \n",
      "\n",
      "\t{'max_depth': 9}\n",
      "\n",
      "|   No of CrossValidation sets   |\n",
      "\n",
      "\tTotal numbre of cross validation sets: 5\n",
      "\n",
      "|        Best Score       |\n",
      "\n",
      "\tAverage Cross Validate scores of best estimator : \n",
      "\n",
      "\t0.8507981520276363\n",
      "\n"
     ]
    }
   ],
   "source": [
    "from sklearn.tree import DecisionTreeClassifier\n",
    "parameters = {'max_depth':np.arange(3,10,2)}\n",
    "dt = DecisionTreeClassifier()\n",
    "dt_grid = GridSearchCV(dt,param_grid=parameters, n_jobs=-1)\n",
    "dt_grid_results = perform_model(dt_grid, X_train, y_train, X_test, y_test, class_labels=labels)\n",
    "print_grid_search_attributes(dt_grid_results['model'])"
   ]
  },
  {
   "cell_type": "markdown",
   "id": "811880ff",
   "metadata": {},
   "source": [
    "# 5. Random Forest Classifier with GridSearch"
   ]
  },
  {
   "cell_type": "code",
   "execution_count": 37,
   "id": "e2f57f6d",
   "metadata": {},
   "outputs": [
    {
     "name": "stdout",
     "output_type": "stream",
     "text": [
      "Predicting test data\n",
      "\n",
      "    0.9256871394638616\n",
      "\n",
      "\n",
      "| Confusion Matrix |\n",
      "\n",
      " [[537   0   0   0   0   0]\n",
      " [  0 431  60   0   0   0]\n",
      " [  0  42 490   0   0   0]\n",
      " [  0   0   0 485   9   2]\n",
      " [  0   0   0  22 356  42]\n",
      " [  0   0   0  36   6 429]]\n"
     ]
    },
    {
     "data": {
      "image/png": "[encoded data removed]",
      "text/plain": [
       "<Figure size 576x576 with 2 Axes>"
      ]
     },
     "metadata": {
      "needs_background": "light"
     },
     "output_type": "display_data"
    },
    {
     "name": "stdout",
     "output_type": "stream",
     "text": [
      "| Classifiction Report |\n",
      "                    precision    recall  f1-score   support\n",
      "\n",
      "            LAYING       1.00      1.00      1.00       537\n",
      "           SITTING       0.91      0.88      0.89       491\n",
      "          STANDING       0.89      0.92      0.91       532\n",
      "           WALKING       0.89      0.98      0.93       496\n",
      "WALKING_DOWNSTAIRS       0.96      0.85      0.90       420\n",
      "  WALKING_UPSTAIRS       0.91      0.91      0.91       471\n",
      "\n",
      "          accuracy                           0.93      2947\n",
      "         macro avg       0.93      0.92      0.92      2947\n",
      "      weighted avg       0.93      0.93      0.93      2947\n",
      "\n",
      "|      Best Estimator     |\n",
      "\n",
      "\tRandomForestClassifier(bootstrap=True, ccp_alpha=0.0, class_weight=None,\n",
      "                       criterion='gini', max_depth=11, max_features='auto',\n",
      "                       max_leaf_nodes=None, max_samples=None,\n",
      "                       min_impurity_decrease=0.0, min_impurity_split=None,\n",
      "                       min_samples_leaf=1, min_samples_split=2,\n",
      "                       min_weight_fraction_leaf=0.0, n_estimators=30,\n",
      "                       n_jobs=None, oob_score=False, random_state=None,\n",
      "                       verbose=0, warm_start=False)\n",
      "\n",
      "|     Best parameters     |\n",
      "\tParameters of best estimator : \n",
      "\n",
      "\t{'max_depth': 11, 'n_estimators': 30}\n",
      "\n",
      "|   No of CrossValidation sets   |\n",
      "\n",
      "\tTotal numbre of cross validation sets: 5\n",
      "\n",
      "|        Best Score       |\n",
      "\n",
      "\tAverage Cross Validate scores of best estimator : \n",
      "\n",
      "\t0.9215214787478555\n",
      "\n"
     ]
    }
   ],
   "source": [
    "from sklearn.ensemble import RandomForestClassifier\n",
    "params = {'n_estimators': np.arange(10,201,20),\n",
    "          'max_depth':np.arange(3,15,2)}\n",
    "rfc = RandomForestClassifier()\n",
    "rfc_grid = GridSearchCV(rfc, param_grid=params, n_jobs=-1)\n",
    "rfc_grid_results = perform_model(rfc_grid, X_train, y_train, X_test, y_test, class_labels=labels)\n",
    "print_grid_search_attributes(rfc_grid_results['model'])"
   ]
  },
  {
   "cell_type": "markdown",
   "id": "c3d22bbc",
   "metadata": {},
   "source": [
    "# 6.  Gradient Boosted Decision Trees With GridSearch"
   ]
  },
  {
   "cell_type": "code",
   "execution_count": null,
   "id": "0229f14e",
   "metadata": {},
   "outputs": [],
   "source": [
    "from sklearn.ensemble import GradientBoostingClassifier\n",
    "param_grid = {'max_depth': np.arange(5,8,1), \\\n",
    "             'n_estimators':np.arange(130,170,10)}\n",
    "gbdt = GradientBoostingClassifier()\n",
    "gbdt_grid = GridSearchCV(gbdt, param_grid=param_grid, n_jobs=-1)\n",
    "gbdt_grid_results = perform_model(gbdt_grid, X_train, y_train, X_test, y_test, class_labels=labels)\n",
    "print_grid_search_attributes(gbdt_grid_results['model'])"
   ]
  },
  {
   "cell_type": "markdown",
   "id": "97f01f9a",
   "metadata": {},
   "source": [
    "# 7. Comparing all models"
   ]
  },
  {
   "cell_type": "code",
   "execution_count": 40,
   "id": "d4f3d6e5",
   "metadata": {},
   "outputs": [
    {
     "name": "stdout",
     "output_type": "stream",
     "text": [
      "\n",
      "                     Accuracy     Error\n",
      "                     ----------   --------\n",
      "Logistic Regression : 96.3%       3.699%\n",
      "Linear SVC          : 96.74%       3.258% \n",
      "rbf SVM classifier  : 96.27%      3.733% \n",
      "DecisionTree        : 87.17%      12.83% \n",
      "Random Forest       : 92.57%      7.431% \n"
     ]
    }
   ],
   "source": [
    "print('\\n                     Accuracy     Error')\n",
    "print('                     ----------   --------')\n",
    "print('Logistic Regression : {:.04}%       {:.04}%'.format(log_reg_grid_results['accuracy'] * 100,\\\n",
    "                                                  100-(log_reg_grid_results['accuracy'] * 100)))\n",
    "\n",
    "print('Linear SVC          : {:.04}%       {:.04}% '.format(lr_svc_grid_results['accuracy'] * 100,\\\n",
    "                                                        100-(lr_svc_grid_results['accuracy'] * 100)))\n",
    "\n",
    "print('rbf SVM classifier  : {:.04}%      {:.04}% '.format(rbf_svm_grid_results['accuracy'] * 100,\\\n",
    "                                                          100-(rbf_svm_grid_results['accuracy'] * 100)))\n",
    "\n",
    "print('DecisionTree        : {:.04}%      {:.04}% '.format(dt_grid_results['accuracy'] * 100,\\\n",
    "                                                        100-(dt_grid_results['accuracy'] * 100)))\n",
    "\n",
    "print('Random Forest       : {:.04}%      {:.04}% '.format(rfc_grid_results['accuracy'] * 100,\\\n",
    "                                                           100-(rfc_grid_results['accuracy'] * 100)))\n",
    "#print('GradientBoosting DT : {:.04}%      {:.04}% '.format(rfc_grid_results['accuracy'] * 100,\\\n",
    "   #                                                     100-(rfc_grid_results['accuracy'] * 100)))"
   ]
  },
  {
   "cell_type": "code",
   "execution_count": null,
   "id": "7ba57d59",
   "metadata": {},
   "outputs": [],
   "source": []
  }
 ],
 "metadata": {
  "kernelspec": {
   "display_name": "Python 3",
   "language": "python",
   "name": "python3"
  }
 },
 "nbformat": 4,
 "nbformat_minor": 5
}
